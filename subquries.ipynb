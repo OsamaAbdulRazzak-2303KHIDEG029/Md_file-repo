{
 "cells": [
  {
   "cell_type": "code",
   "execution_count": 1,
   "metadata": {},
   "outputs": [
    {
     "name": "stdout",
     "output_type": "stream",
     "text": [
      "2024 November\n"
     ]
    }
   ],
   "source": [
    "from datetime import datetime\n",
    "\n",
    "# Get the current date and time\n",
    "current_datetime = datetime.now()\n",
    "\n",
    "# Get the current year and month\n",
    "present_year = current_datetime.year\n",
    "present_month = current_datetime.strftime(\"%B\")\n",
    "print(present_year, present_month)"
   ]
  },
  {
   "cell_type": "code",
   "execution_count": 2,
   "metadata": {},
   "outputs": [],
   "source": [
    "from langchain.output_parsers import PydanticToolsParser\n",
    "from langchain_core.prompts import ChatPromptTemplate\n",
    "\n",
    "# from pydantic import BaseModel\n",
    "# from langchain_core.pydantic_v1 import BaseModel, Field\n",
    "from pydantic import BaseModel, Field\n",
    "from langchain_openai import ChatOpenAI\n",
    "from llama_index.llms.openai import OpenAI\n",
    "from llama_index.core import Settings\n",
    "from dotenv import load_dotenv\n",
    "\n",
    "locals = load_dotenv()\n",
    "\n",
    "\n",
    "class SubQuery(BaseModel):\n",
    "    \"\"\"Search over a database of tutorial videos about a software library.\"\"\"\n",
    "\n",
    "    sub_query: str = Field(\n",
    "        ...,\n",
    "        description=\"A very specific query against the database.\",\n",
    "    )\n",
    "\n",
    "\n",
    "system = f\"\"\"You are an expert at converting user questions into database queries. \\\n",
    "You have access to a database of monthly reports. \\\n",
    "\n",
    "Perform query decomposition. Given a user question, break it down into distinct sub questions that \\\n",
    "you need to answer in order to answer the original question.\n",
    "\n",
    "current month and year : {present_month} {present_year}\n",
    "\n",
    "If the question have not specify both a year and a month, default to the current month and year: {present_month} {present_year}, \\\n",
    "and produce only one subquery using this default.\n",
    "\n",
    "- If a specific year is provided, convert it to 4 digits.\n",
    "- When a time range like \"last months\" or \"last years\" is specified, generate a subquery for each relevant period.\n",
    "\n",
    "If question have only specify a year(e.g: last year), default to the current year:{present_year}, \\\n",
    "and produce only one subquery using this default.\n",
    "\n",
    "If there are acronyms or words you are not familiar with, do not try to rephrase them.\"\"\"\n",
    "prompt = ChatPromptTemplate.from_messages(\n",
    "    [\n",
    "        (\"system\", system),\n",
    "        (\"human\", \"{question}\"),\n",
    "    ]\n",
    ")\n",
    "\n",
    "llm = ChatOpenAI(model=\"gpt-4o-mini\", temperature=0.0)\n",
    "Settings.llm = llm\n",
    "llm_with_tools = llm.bind_tools([SubQuery])\n",
    "parser = PydanticToolsParser(tools=[SubQuery])\n",
    "query_analyzer = prompt | llm_with_tools | parser"
   ]
  },
  {
   "cell_type": "code",
   "execution_count": 3,
   "metadata": {},
   "outputs": [
    {
     "data": {
      "text/plain": [
       "[SubQuery(sub_query='investment objective for Alfalah GHP Cash for August 2024'),\n",
       " SubQuery(sub_query='investment objective for Alfalah GHP Cash for September 2024'),\n",
       " SubQuery(sub_query='investment objective for Alfalah GHP Cash for October 2024')]"
      ]
     },
     "execution_count": 3,
     "metadata": {},
     "output_type": "execute_result"
    }
   ],
   "source": [
    "query_str = \"tell me about investment objective for Alfalah ghp cash for last 3 month\"\n",
    "sub_qeuries = query_analyzer.invoke({\"question\": query_str})\n",
    "sub_qeuries"
   ]
  },
  {
   "cell_type": "code",
   "execution_count": 4,
   "metadata": {},
   "outputs": [
    {
     "data": {
      "text/plain": [
       "[SubQuery(sub_query='historical Performance % of Alfalah GHP Value Fund for November 2024')]"
      ]
     },
     "execution_count": 4,
     "metadata": {},
     "output_type": "execute_result"
    }
   ],
   "source": [
    "query_str = \"Give me historical Performance % of Alfalah GHP Value Fund\"\n",
    "sub_qeuries = query_analyzer.invoke({\"question\": query_str})\n",
    "sub_qeuries"
   ]
  },
  {
   "cell_type": "code",
   "execution_count": 5,
   "metadata": {},
   "outputs": [
    {
     "data": {
      "text/plain": [
       "[SubQuery(sub_query='investment objective for Alfalah GHP Cash for October 2024')]"
      ]
     },
     "execution_count": 5,
     "metadata": {},
     "output_type": "execute_result"
    }
   ],
   "source": [
    "query_str = \"tell me about investment objective for Alfalah ghp cash for last month\"\n",
    "sub_qeuries = query_analyzer.invoke({\"question\": query_str})\n",
    "sub_qeuries"
   ]
  },
  {
   "cell_type": "code",
   "execution_count": 6,
   "metadata": {},
   "outputs": [
    {
     "data": {
      "text/plain": [
       "[SubQuery(sub_query='fund performance of Alfalah GHP Stock Fund for the year 2022'),\n",
       " SubQuery(sub_query='fund performance of Alfalah GHP Stock Fund for the year 2023'),\n",
       " SubQuery(sub_query='fund performance of Alfalah GHP Stock Fund for the year 2024')]"
      ]
     },
     "execution_count": 6,
     "metadata": {},
     "output_type": "execute_result"
    }
   ],
   "source": [
    "query_str = (\n",
    "    \"tell me about the fund performance of Alfalah GHP Stock Fund for last three years.\"\n",
    ")\n",
    "sub_qeuries = query_analyzer.invoke({\"question\": query_str})\n",
    "sub_qeuries"
   ]
  },
  {
   "cell_type": "code",
   "execution_count": 7,
   "metadata": {},
   "outputs": [
    {
     "data": {
      "text/plain": [
       "[SubQuery(sub_query='fund performance of Alfalah GHP Stock Fund for the year 2020'),\n",
       " SubQuery(sub_query='fund performance of Alfalah GHP Stock Fund for the year 2021'),\n",
       " SubQuery(sub_query='fund performance of Alfalah GHP Stock Fund for the year 2022'),\n",
       " SubQuery(sub_query='fund performance of Alfalah GHP Stock Fund for the year 2023')]"
      ]
     },
     "execution_count": 7,
     "metadata": {},
     "output_type": "execute_result"
    }
   ],
   "source": [
    "query_str = (\n",
    "    \"tell me about the fund performance of Alfalah GHP Stock Fund for last four years.\"\n",
    ")\n",
    "sub_qeuries = query_analyzer.invoke({\"question\": query_str})\n",
    "sub_qeuries"
   ]
  },
  {
   "cell_type": "code",
   "execution_count": 8,
   "metadata": {},
   "outputs": [
    {
     "data": {
      "text/plain": [
       "[SubQuery(sub_query='fund performance of Alfalah GHP Stock Fund for November 2022'),\n",
       " SubQuery(sub_query='fund performance of Alfalah GHP Stock Fund for November 2023')]"
      ]
     },
     "execution_count": 8,
     "metadata": {},
     "output_type": "execute_result"
    }
   ],
   "source": [
    "query_str = (\n",
    "    \"tell me about the fund performance of Alfalah GHP Stock Fund for last two years.\"\n",
    ")\n",
    "sub_qeuries = query_analyzer.invoke({\"question\": query_str})\n",
    "sub_qeuries"
   ]
  },
  {
   "cell_type": "code",
   "execution_count": 9,
   "metadata": {},
   "outputs": [
    {
     "data": {
      "text/plain": [
       "[SubQuery(sub_query='best performing funds in July 2024'),\n",
       " SubQuery(sub_query='best performing funds in August 2024'),\n",
       " SubQuery(sub_query='best performing funds in September 2024'),\n",
       " SubQuery(sub_query='best performing funds in October 2024')]"
      ]
     },
     "execution_count": 9,
     "metadata": {},
     "output_type": "execute_result"
    }
   ],
   "source": [
    "query_str = \"What are the best performing funds over the last 4 month?\"\n",
    "sub_qeuries = query_analyzer.invoke({\"question\": query_str})\n",
    "sub_qeuries"
   ]
  },
  {
   "cell_type": "code",
   "execution_count": 10,
   "metadata": {},
   "outputs": [
    {
     "data": {
      "text/plain": [
       "[SubQuery(sub_query='best performing fund in 2023')]"
      ]
     },
     "execution_count": 10,
     "metadata": {},
     "output_type": "execute_result"
    }
   ],
   "source": [
    "query_str = \"Which fund is the best performing fund in last year?\"\n",
    "sub_qeuries = query_analyzer.invoke({\"question\": query_str})\n",
    "sub_qeuries"
   ]
  },
  {
   "cell_type": "code",
   "execution_count": 11,
   "metadata": {},
   "outputs": [
    {
     "data": {
      "text/plain": [
       "[SubQuery(sub_query='fund performance of Alfalah GHP Stock Fund for May 2024'),\n",
       " SubQuery(sub_query='fund performance of Alfalah GHP Stock Fund for June 2024'),\n",
       " SubQuery(sub_query='fund performance of Alfalah GHP Stock Fund for July 2024'),\n",
       " SubQuery(sub_query='fund performance of Alfalah GHP Stock Fund for August 2024'),\n",
       " SubQuery(sub_query='fund performance of Alfalah GHP Stock Fund for September 2024')]"
      ]
     },
     "execution_count": 11,
     "metadata": {},
     "output_type": "execute_result"
    }
   ],
   "source": [
    "query_str = \"tell me about the fund performance of Alfalah GHP Stock Fund from may 2024 to september 2024?\"\n",
    "sub_qeuries = query_analyzer.invoke({\"question\": query_str})\n",
    "sub_qeuries"
   ]
  },
  {
   "cell_type": "code",
   "execution_count": null,
   "metadata": {},
   "outputs": [],
   "source": [
    "query_str = \"tell me about the fund performance of Alfalah GHP Stock Fund from may 2024 to september 2024?\"\n",
    "sub_qeuries = query_analyzer.invoke({\"question\": query_str})\n",
    "sub_qeuries"
   ]
  },
  {
   "cell_type": "code",
   "execution_count": 1,
   "metadata": {},
   "outputs": [
    {
     "name": "stdout",
     "output_type": "stream",
     "text": [
      "9\n"
     ]
    }
   ],
   "source": [
    "arr =  [ 2,4,6,7,8,9]\n",
    "max = arr[0]\n",
    "for num in arr:\n",
    "    if num > max:\n",
    "        max = num\n",
    "print(max)"
   ]
  },
  {
   "cell_type": "code",
   "execution_count": null,
   "metadata": {},
   "outputs": [],
   "source": []
  }
 ],
 "metadata": {
  "kernelspec": {
   "display_name": "intermediate",
   "language": "python",
   "name": "python3"
  },
  "language_info": {
   "codemirror_mode": {
    "name": "ipython",
    "version": 3
   },
   "file_extension": ".py",
   "mimetype": "text/x-python",
   "name": "python",
   "nbconvert_exporter": "python",
   "pygments_lexer": "ipython3",
   "version": "3.10.12"
  }
 },
 "nbformat": 4,
 "nbformat_minor": 2
}
