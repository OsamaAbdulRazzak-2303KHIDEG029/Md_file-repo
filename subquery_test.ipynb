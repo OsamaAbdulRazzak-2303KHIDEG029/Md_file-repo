{
 "cells": [
  {
   "cell_type": "code",
   "execution_count": null,
   "metadata": {},
   "outputs": [],
   "source": [
    "from typing import List\n",
    "from langchain.output_parsers import PydanticToolsParser\n",
    "from langchain_core.prompts import ChatPromptTemplate\n",
    "from pydantic import BaseModel, Field\n",
    "from langchain_openai import ChatOpenAI\n",
    "from langchain_core.prompts import PromptTemplate\n",
    "from datetime import datetime\n",
    "\n",
    "\n",
    "# Get the current year and month\n",
    "def get_current_year_and_month():\n",
    "    current_datetime = datetime.now()\n",
    "    present_year = current_datetime.year\n",
    "    present_month = current_datetime.strftime(\"%B\")\n",
    "    return present_year, present_month\n",
    "\n",
    "\n",
    "class SubQuery(BaseModel):\n",
    "    \"\"\"Search over a database of tutorial videos about a software library.\"\"\"\n",
    "\n",
    "    sub_query: str = Field(\n",
    "        ...,\n",
    "        description=\"A very specific query against the database.\",\n",
    "    )\n",
    "class QueryProcessor:\n",
    "    def __init__(self, model_name=\"gpt-4o-mini\", temperature=0.0):\n",
    "        self.llm = ChatOpenAI(model=model_name, temperature=temperature)\n",
    "        self.sub_qeury_llm = ChatOpenAI(model=\"gpt-4o-mini\", temperature=temperature)\n",
    "        self.llm_with_tools = self.sub_qeury_llm.bind_tools([SubQuery])\n",
    "        self.parser = PydanticToolsParser(tools=[SubQuery])\n",
    "        # Define system prompts for subquery decomposition and standalone question generation\n",
    "        self.subquery_system_prompt_template = \"\"\"You are an expert at converting user questions into database search requests in natural language. \\\n",
    "        You have access to a database of monthly reports. \\\n",
    "\n",
    "        Perform query decomposition. Given a user question, break it down into distinct sub questions that \\\n",
    "        you need to answer in order to answer the original question.\n",
    "\n",
    "        **current month and year** : {present_month} {present_year}\n",
    "\n",
    "        - If a user question includes a specific fund name along with a specific month and year, \\\n",
    "          generate a single subquery that includes both the fund name and the specified date.\n",
    "        - Based on the funds names, types, categories, and risk profiles mentioned below, break down the query into subqueries. If the user requests low-risk or high-risk funds, \n",
    "          or specifies a particular category or specified it fund type, decompose the query to include all relevant funds that fall within the specified risk profile or category, \n",
    "          as listed in the table. e.g :     \n",
    "        - Don't rephrase or miss any single word(like Basic information, Islamic etc) from the query, just decompose it into sub queries if needed.\n",
    "        - If a specific year is provided, convert it to 4 digits.\n",
    "        - When a time range like \"last months\" or \"last years\" is specified, generate a subquery for each relevant period according to the current month and year.\n",
    "        - If a specific month and year are provided in the question, only one subquery for that date should be generated.\n",
    "        - If the query contains the keyword **\"since\"** followed by a specific year, generate subqueries for each year from that year up to the current year.\n",
    "        - If no specific month or year is mentioned in the user question, then strickly do not add any date-related information.\n",
    "\n",
    "        If there are acronyms or words you are not familiar with, do not try to rephrase them.\n",
    "\n",
    "        All Funds offered by AAML with their fund type, category and risk Profile\n",
    "\n",
    "        | Fund Name                                      | Fund Type  | Category                                        | Risk Profile    |\n",
    "        | ---------------------------------------------- | ---------- | ----------------------------------------------- | --------------- |\n",
    "        | Alfalah GHP Alpha Fund                         | Open Ended | Equity Scheme                                   | High            |\n",
    "        | Alfalah GHP Value Fund                         | Open Ended | Asset Allocation Scheme                         | High            |\n",
    "        | Alfalah Financial Value Fund                   | Open Ended | Asset Allocation Scheme                         | High            |\n",
    "        | Alfalah Asset Allocation Fund                  | Open Ended | Asset Allocation Scheme                         | High            |\n",
    "        | Alfalah GHP Stock Fund                         | Open Ended | Equity Scheme                                   | High            |\n",
    "        | Alfalah GHP Stock Fund - II                    | Open Ended | quity Scheme                                    | High            |\n",
    "        | Alfalah GHP Sovereign Income Fund              | Open Ended | Income Scheme                                   | Medium          |\n",
    "        | Alfalah MTS Fund                               | Open Ended | Income Scheme                                   | Low             |\n",
    "        | Alfalah Saving Growth Fund                     | Open Ended | Income Scheme                                   | Medium          |\n",
    "        | Alfalah Government Securities Fund-I           | Open Ended | Sovereign Income Scheme                         | Low             |\n",
    "        | Alfalah Government Securities Fund-II          | Open Ended | Sovereign Income Scheme                         | Low             |\n",
    "        | Alfalah GHP Consumer Index ETF                 | Open Ended | Exchange Traded Fund                            | High            |\n",
    "        | Alfalah GHP Money Market Fund                  | Open Ended | Money Market Scheme                             | Low             |\n",
    "        | Alfalah GHP Money Market Fund - II             | Open Ended | Money Market Scheme                             | Low             |\n",
    "        | Alfalah GHP Income Multiplier Fund             | Open Ended | Aggressive Income Scheme                        | Medium          |\n",
    "        | Alfalah Income & Growth Fund                   | Open Ended | Aggressive Income Scheme                        | Medium          |\n",
    "        | Alfalah Stable Return Fund Plan 4              | Open Ended | Fixed Return Scheme                             | Low             |\n",
    "        | Alfalah Financial Sector Income Plan-2         | Open Ended | Income Scheme                                   | Medium          |\n",
    "        | Alfalah Stable Return Fund Plan 10             | Open Ended | Fixed Return Scheme                             | Low             |\n",
    "        | Alfalah Stable Return Fund Plan 11             | Open Ended | Fixed Return Scheme                             | Low             |\n",
    "        | Alfalah Stable Return Fund Plan 12             | Open Ended | Fixed Return Scheme                             | Low             |\n",
    "        | Alfalah Stable Return Fund Plan 13             | Open Ended | Fixed Return Scheme                             | Low             |\n",
    "        | Alfalah Stable Return Fund Plan 14             | Open Ended | Fixed Return Scheme                             | Low             |\n",
    "        | Alfalah Stable Return Fund Plan 15             | Open Ended | Fixed Return Scheme                             | Low             |\n",
    "        | Alfalah GHP Income Fund                        | Open Ended | Income Scheme                                   | Medium          |\n",
    "        | Alfalah Financial Sector Opportunity Fund      | Open Ended | Income Scheme                                   | Medium          |\n",
    "        | Alfalah GHP Cash Fund                          | Open Ended | Money Market Scheme                             | Low             |\n",
    "        | Alfalah GHP Cash Fund - II                     | Open Ended | Money Market Scheme                             | Low             |\n",
    "        | Alfalah GHP Dedicated Equity Fund              | Open Ended | Equity Scheme                                   | High            |\n",
    "        | Alfalah Strategic Allocation Plan-1            | Open Ended | Asset Allocation Fund of Funds Scheme           | High            |\n",
    "        | Alfalah GHP Prosperity Planning Fund           | Open Ended | Fund of Fund Scheme                             |                 |\n",
    "        | a) Active Allocation Plan                      | Open Ended | Fund of Fund Scheme                             | High            |\n",
    "        | b) Moderate Allocation Plan                    | Open Ended | Fund of Fund Scheme                             | Medium          |\n",
    "        | c) Conservative Allocation Plan                | Open Ended | Fund of Fund Scheme                             | Medium          |\n",
    "        | d) Capital Preservation Plan-4                 | Open Ended | Fund of Fund Scheme                             | Medium          |\n",
    "        | Alfalah GHP Pension Fund                       | Open Ended | Voluntary Pension Fund Scheme                   |                 |\n",
    "        | a) Equity Sub Fund                             | Open Ended |                                                 | High            |\n",
    "        | b) Debt Sub Fund                               | Open Ended |                                                 | Medium          |\n",
    "        | c) Money Market Sub Fund                       | Open Ended |                                                 | Low             |\n",
    "        | Alfalah GHP Pension Fund - II                  | Open Ended | Voluntary Pension Fund Scheme                   |                 |\n",
    "        | a)Equity Sub Fund                              | Open Ended |                                                 | High            |\n",
    "        | b)Debt Sub Fund                                | Open Ended |                                                 | Medium          |\n",
    "        | c)Money Market Sub Fund                        | Open Ended |                                                 | Low             |\n",
    "        | Alfalah Financial Sector Income Plan-1         | Open Ended | Income Scheme                                   | Medium          |\n",
    "        | Alfalah KPK Employee Pension Fund              | Open Ended | Voluntary Pension Fund Scheme                   |                 |\n",
    "        | a) Money Market Sub Fund                       | Open Ended |                                                 | Low             |\n",
    "        | ALFALAH GOVERNMENT SECURITIES FUND             | Open Ended | Income scheme                                   | Medium          |\n",
    "        | ALFALAH GOVERNMENT SECURITIES Fund- Plan-1     | Open Ended | Sovereign Income Scheme                         | Medium          |\n",
    "        | ALFALAH GOVERNMENT SECURITIES Fund- Plan-2     | Open Ended | Sovereign Income Scheme                         | Medium          |\n",
    "        | Alfalah Stable Return Fund - Plan 8            | Open Ended | Fixed Return                                    | Low             |\n",
    "        | Alfalah Financial Value Fund Plan-1            | Open Ended | Asset Alloc. Scheme                             | High            |\n",
    "        | Alfalah Stable Return Fund - Plan 6            | Open Ended | Fixed Return                                    | Low             |\n",
    "        | Alfalah Stable Return Fund - Plan 16           | Open Ended | Fixed Return                                    | Low             |\n",
    "        | Alfalah Islamic Rozana Amdani Fund             | Open Ended | Shariah Compliant Money Market                  | Low             |\n",
    "        | Alfalah Islamic Money Market Fund              | Open Ended | Shariah Compliant Money Market                  | Low             |\n",
    "        | Alfalah GHP Islamic Stock Fund                 | Open Ended | Shariah Compliant Equity Scheme                 | High            |\n",
    "        | Alfalah GHP Islamic Dedicated Equity Fund      | Open Ended | Shariah Compliant Dedicated Equity Scheme       | High            |\n",
    "        | Alfalah GHP Islamic Value Fund                 | Open Ended | Shariah Compliant Asset Allocation Scheme       | High            |\n",
    "        | Alfalah GHP Islamic Income Fund                | Open Ended | Shariah Compliant Income Scheme                 | Medium          |\n",
    "        | Alfalah Islamic Sovereign Plan-1               | Open Ended | Shariah Compliant Sovereign Income Scheme       | Medium          |\n",
    "        | Alfalah Islamic Sovereign Plan-2               | Open Ended | Shariah Compliant Sovereign Income Scheme       | Medium          |\n",
    "        | Alfalah Islamic Sovereign Plan-3               | Open Ended | Shariah Compliant Sovereign Income Scheme       | Medium          |\n",
    "        | Alfalah Islamic Stable Return Plan – II        | Open Ended | Shariah Compliant Fixed Rate / Return Scheme    | Low to Moderate |\n",
    "        | Alfalah Islamic Stable Return Plan – IV        | Open Ended | Shariah Compliant Fixed Rate / Return Scheme    | Low to Moderate |\n",
    "        | Alfalah GHP Islamic Prosperity Planning Fund   | Open Ended | Shariah Compliant Islamic Fund of Fund Scheme   | Medium          |\n",
    "        | Islamic Balanced Allocation Plan               | Open Ended | Shariah Compliant Islamic Fund of Fund Scheme   | Medium          |\n",
    "        | Islamic Moderate Allocation Plan               | Open Ended | Shariah Compliant Islamic Fund of Fund Scheme   | Medium          |\n",
    "        | Islamic Active Allocation Plan – II            | Open Ended | Shariah Compliant Islamic Fund of Fund Scheme   | High            |\n",
    "        | Alfalah GHP Islamic Prosperity Planning Fund 2 | Open Ended | Shariah Compliant Islamic Fund of Fund Scheme   | Low             |\n",
    "        | K Trade Islamic Plan -7                        | Open Ended | Shariah Compliant Islamic Fund of Fund Scheme   | Low             |\n",
    "        | Alfalah GHP Islamic Pension Fund               | Open Ended | Shariah Compliant Voluntary Pension Fund Scheme | High            |\n",
    "        | a) Equity Sub Fund                             | Open Ended | Shariah Compliant Voluntary Pension Fund Scheme | High            |\n",
    "        | b) Debt Sub Fund                               | Open Ended | Shariah Compliant Voluntary Pension Fund Scheme | Medium          |\n",
    "        | c) Money Market Sub Fund                       | Open Ended | Shariah Compliant Voluntary Pension Fund Scheme | Low             |\n",
    "        | Alfalah Islamic KPK Employee Pension Fund      | Open Ended | Shariah Compliant Voluntary Pension Fund Scheme | Low             |\n",
    "        | a)Money Market Sub Fund                        | Open Ended | Shariah Compliant Voluntary Pension Fund Scheme | Low             |\n",
    "\n",
    "        \"\"\"\n",
    "    \n",
    "    def get_subquery(self, query_str: str, current_year, current_month):\n",
    "        # present_year, present_month = get_current_year_and_month()\n",
    "        subquery_system_prompt = self.subquery_system_prompt_template.format(\n",
    "            present_month=current_month, present_year=current_year\n",
    "        )\n",
    "\n",
    "        prompt = ChatPromptTemplate.from_messages(\n",
    "            [\n",
    "                (\"system\", subquery_system_prompt),\n",
    "                (\"human\", \"{question}\"),\n",
    "            ]\n",
    "        )\n",
    "\n",
    "        query_analyzer = prompt | self.llm_with_tools | self.parser\n",
    "        sub_queries = query_analyzer.invoke({\"question\": query_str})\n",
    "        if sub_queries:\n",
    "            sub_queries = [sub_query.sub_query for sub_query in sub_queries]\n",
    "            sub_queries_with_filter = [\n",
    "                sub_query.replace(f\"{str(current_month)} {str(current_year)}\", \"\")\n",
    "                for sub_query in sub_queries\n",
    "            ]\n",
    "            return sub_queries_with_filter\n",
    "        return sub_queries\n",
    "\n"
   ]
  },
  {
   "cell_type": "code",
   "execution_count": 27,
   "metadata": {},
   "outputs": [
    {
     "data": {
      "text/plain": [
       "'February'"
      ]
     },
     "execution_count": 27,
     "metadata": {},
     "output_type": "execute_result"
    }
   ],
   "source": [
    "current_year, current_month = get_current_year_and_month()\n",
    "current_month\n"
   ]
  },
  {
   "cell_type": "code",
   "execution_count": 28,
   "metadata": {},
   "outputs": [],
   "source": [
    "queries_processor = QueryProcessor()"
   ]
  },
  {
   "cell_type": "code",
   "execution_count": 36,
   "metadata": {},
   "outputs": [
    {
     "data": {
      "text/plain": [
       "['Alfalah MTS Fund',\n",
       " 'Alfalah Government Securities Fund-I',\n",
       " 'Alfalah Government Securities Fund-II',\n",
       " 'Alfalah GHP Money Market Fund',\n",
       " 'Alfalah GHP Money Market Fund - II',\n",
       " 'Alfalah Stable Return Fund Plan 4',\n",
       " 'Alfalah Stable Return Fund Plan 10',\n",
       " 'Alfalah Stable Return Fund Plan 11',\n",
       " 'Alfalah Stable Return Fund Plan 12',\n",
       " 'Alfalah Stable Return Fund Plan 13',\n",
       " 'Alfalah Stable Return Fund Plan 14',\n",
       " 'Alfalah Stable Return Fund Plan 15',\n",
       " 'Alfalah GHP Cash Fund',\n",
       " 'Alfalah GHP Cash Fund - II',\n",
       " 'Alfalah Islamic Rozana Amdani Fund',\n",
       " 'Alfalah Islamic Money Market Fund',\n",
       " 'Alfalah Islamic Stable Return Plan – II',\n",
       " 'Alfalah Islamic Stable Return Plan – IV',\n",
       " 'Alfalah Islamic KPK Employee Pension Fund',\n",
       " 'a)Money Market Sub Fund']"
      ]
     },
     "execution_count": 36,
     "metadata": {},
     "output_type": "execute_result"
    }
   ],
   "source": [
    "Subqueries = queries_processor.get_subquery(\"provide me all low risk funds do you have with it return\", current_year, current_month)\n",
    "Subqueries"
   ]
  },
  {
   "cell_type": "code",
   "execution_count": 32,
   "metadata": {},
   "outputs": [
    {
     "data": {
      "text/plain": [
       "20"
      ]
     },
     "execution_count": 32,
     "metadata": {},
     "output_type": "execute_result"
    }
   ],
   "source": [
    "len(Subqueries)"
   ]
  },
  {
   "cell_type": "code",
   "execution_count": null,
   "metadata": {},
   "outputs": [],
   "source": [
    "def checking_query(query_str):\n",
    "    if any(phrase in query_str.lower() for phrase in [\"all fund\", \"all the fund\",\"how many funds\"]) or all(word in query_str.lower() for word in [\"risk\", \"return\"]):\n",
    "        return (\"Match is found \")\n",
    "    else:\n",
    "        return (\"No match is found \")\n"
   ]
  },
  {
   "cell_type": "code",
   "execution_count": 57,
   "metadata": {},
   "outputs": [
    {
     "data": {
      "text/plain": [
       "'Match is found '"
      ]
     },
     "execution_count": 57,
     "metadata": {},
     "output_type": "execute_result"
    }
   ],
   "source": [
    "query_str = \"show all the funds return ?\"\n",
    "checking_query(query_str)"
   ]
  },
  {
   "cell_type": "code",
   "execution_count": null,
   "metadata": {},
   "outputs": [],
   "source": []
  }
 ],
 "metadata": {
  "kernelspec": {
   "display_name": "intermediate",
   "language": "python",
   "name": "python3"
  },
  "language_info": {
   "codemirror_mode": {
    "name": "ipython",
    "version": 3
   },
   "file_extension": ".py",
   "mimetype": "text/x-python",
   "name": "python",
   "nbconvert_exporter": "python",
   "pygments_lexer": "ipython3",
   "version": "3.10.12"
  }
 },
 "nbformat": 4,
 "nbformat_minor": 2
}
